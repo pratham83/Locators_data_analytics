{
 "cells": [
  {
   "cell_type": "code",
   "execution_count": 2,
   "id": "21c83634",
   "metadata": {},
   "outputs": [],
   "source": [
    "import pandas as pd\n",
    "import numpy as np"
   ]
  },
  {
   "cell_type": "code",
   "execution_count": 3,
   "id": "23100915",
   "metadata": {},
   "outputs": [],
   "source": [
    "df = pd.read_csv(r'state.csv')"
   ]
  },
  {
   "cell_type": "markdown",
   "id": "47a1dcd6",
   "metadata": {},
   "source": [
    "# Estimates of locations"
   ]
  },
  {
   "cell_type": "code",
   "execution_count": 4,
   "id": "c44711c7",
   "metadata": {},
   "outputs": [
    {
     "name": "stdout",
     "output_type": "stream",
     "text": [
      "Minimum observation is 37253956\n",
      "Maximim observation is 563626\n"
     ]
    }
   ],
   "source": [
    "print('Minimum observation is', df.Population.max())\n",
    "print('Maximim observation is',df.Population.min())\n"
   ]
  },
  {
   "cell_type": "code",
   "execution_count": 5,
   "id": "a3ab16c3",
   "metadata": {},
   "outputs": [
    {
     "name": "stdout",
     "output_type": "stream",
     "text": [
      "And the mean is 6162876.3\n"
     ]
    }
   ],
   "source": [
    "print('And the mean is',df.Population.mean())"
   ]
  },
  {
   "cell_type": "code",
   "execution_count": 6,
   "id": "b992d67c",
   "metadata": {},
   "outputs": [
    {
     "name": "stdout",
     "output_type": "stream",
     "text": [
      "trimmed mean is 4783697.125\n",
      "trimmed mean is 4413915.966666667\n"
     ]
    }
   ],
   "source": [
    "from scipy.stats import trim_mean\n",
    "print('trimmed mean is',trim_mean(df['Population'] , 0.1))\n",
    "print('trimmed mean is',trim_mean(df['Population'] , 0.2))\n",
    "#37253956 and 563626 is excluded in this mean as we selected 0.1, hence smallest and greatest values are not counted "
   ]
  },
  {
   "cell_type": "code",
   "execution_count": 7,
   "id": "271ab043",
   "metadata": {},
   "outputs": [
    {
     "name": "stdout",
     "output_type": "stream",
     "text": [
      "weighted mean is 4.445833981123393\n"
     ]
    }
   ],
   "source": [
    "print('weighted mean is',np.average(df[\"Murder.Rate\"], weights=df[\"Population\"]))"
   ]
  },
  {
   "cell_type": "code",
   "execution_count": 8,
   "id": "377d97cf",
   "metadata": {},
   "outputs": [
    {
     "name": "stdout",
     "output_type": "stream",
     "text": [
      "Median is 4436369.5\n"
     ]
    }
   ],
   "source": [
    "print('Median is',df.Population.median())"
   ]
  },
  {
   "cell_type": "code",
   "execution_count": 9,
   "id": "3971d26d",
   "metadata": {},
   "outputs": [],
   "source": [
    "df.sort_values('Murder.Rate', inplace = True)\n"
   ]
  },
  {
   "cell_type": "code",
   "execution_count": 10,
   "id": "e3863fe5",
   "metadata": {},
   "outputs": [],
   "source": [
    "def Cumulative(lists):\n",
    "    cu_list = []\n",
    "    length = len(lists)\n",
    "    cu_list = [sum(lists[0:x:1]) for x in range(0, length+1)]\n",
    "    return cu_list[1:]\n",
    " \n",
    "# Driver Code\n",
    "\n",
    "cf = Cumulative(df['Population'])"
   ]
  },
  {
   "cell_type": "code",
   "execution_count": 11,
   "id": "80636fd2",
   "metadata": {},
   "outputs": [
    {
     "data": {
      "text/plain": [
       "50"
      ]
     },
     "execution_count": 11,
     "metadata": {},
     "output_type": "execute_result"
    }
   ],
   "source": [
    "len(cf)"
   ]
  },
  {
   "cell_type": "code",
   "execution_count": 12,
   "id": "5974bd0c",
   "metadata": {},
   "outputs": [],
   "source": [
    "df.insert(4, 'cf', cf)"
   ]
  },
  {
   "cell_type": "code",
   "execution_count": 13,
   "id": "a9f0cdf7",
   "metadata": {
    "scrolled": true
   },
   "outputs": [],
   "source": [
    "df.rename(columns={\"Murder.Rate\": \"Murder_Rate\"}, inplace=True)"
   ]
  },
  {
   "cell_type": "code",
   "execution_count": 14,
   "id": "b684189f",
   "metadata": {},
   "outputs": [],
   "source": [
    "df.insert(5, 'median', 4436369.5)"
   ]
  },
  {
   "cell_type": "code",
   "execution_count": 15,
   "id": "62543da1",
   "metadata": {
    "scrolled": true
   },
   "outputs": [
    {
     "data": {
      "text/html": [
       "<div>\n",
       "<style scoped>\n",
       "    .dataframe tbody tr th:only-of-type {\n",
       "        vertical-align: middle;\n",
       "    }\n",
       "\n",
       "    .dataframe tbody tr th {\n",
       "        vertical-align: top;\n",
       "    }\n",
       "\n",
       "    .dataframe thead th {\n",
       "        text-align: right;\n",
       "    }\n",
       "</style>\n",
       "<table border=\"1\" class=\"dataframe\">\n",
       "  <thead>\n",
       "    <tr style=\"text-align: right;\">\n",
       "      <th></th>\n",
       "      <th>State</th>\n",
       "      <th>Population</th>\n",
       "      <th>Murder_Rate</th>\n",
       "      <th>Abbreviation</th>\n",
       "      <th>cf</th>\n",
       "      <th>median</th>\n",
       "    </tr>\n",
       "  </thead>\n",
       "  <tbody>\n",
       "    <tr>\n",
       "      <th>28</th>\n",
       "      <td>New Hampshire</td>\n",
       "      <td>1316470</td>\n",
       "      <td>0.9</td>\n",
       "      <td>NH</td>\n",
       "      <td>1316470</td>\n",
       "      <td>4436369.5</td>\n",
       "    </tr>\n",
       "    <tr>\n",
       "      <th>22</th>\n",
       "      <td>Minnesota</td>\n",
       "      <td>5303925</td>\n",
       "      <td>1.6</td>\n",
       "      <td>MN</td>\n",
       "      <td>6620395</td>\n",
       "      <td>4436369.5</td>\n",
       "    </tr>\n",
       "    <tr>\n",
       "      <th>18</th>\n",
       "      <td>Maine</td>\n",
       "      <td>1328361</td>\n",
       "      <td>1.6</td>\n",
       "      <td>ME</td>\n",
       "      <td>7948756</td>\n",
       "      <td>4436369.5</td>\n",
       "    </tr>\n",
       "    <tr>\n",
       "      <th>44</th>\n",
       "      <td>Vermont</td>\n",
       "      <td>625741</td>\n",
       "      <td>1.6</td>\n",
       "      <td>VT</td>\n",
       "      <td>8574497</td>\n",
       "      <td>4436369.5</td>\n",
       "    </tr>\n",
       "    <tr>\n",
       "      <th>10</th>\n",
       "      <td>Hawaii</td>\n",
       "      <td>1360301</td>\n",
       "      <td>1.8</td>\n",
       "      <td>HI</td>\n",
       "      <td>9934798</td>\n",
       "      <td>4436369.5</td>\n",
       "    </tr>\n",
       "    <tr>\n",
       "      <th>14</th>\n",
       "      <td>Iowa</td>\n",
       "      <td>3046355</td>\n",
       "      <td>1.9</td>\n",
       "      <td>IA</td>\n",
       "      <td>12981153</td>\n",
       "      <td>4436369.5</td>\n",
       "    </tr>\n",
       "    <tr>\n",
       "      <th>36</th>\n",
       "      <td>Oregon</td>\n",
       "      <td>3831074</td>\n",
       "      <td>2.0</td>\n",
       "      <td>OR</td>\n",
       "      <td>16812227</td>\n",
       "      <td>4436369.5</td>\n",
       "    </tr>\n",
       "    <tr>\n",
       "      <th>20</th>\n",
       "      <td>Massachusetts</td>\n",
       "      <td>6547629</td>\n",
       "      <td>2.0</td>\n",
       "      <td>MA</td>\n",
       "      <td>23359856</td>\n",
       "      <td>4436369.5</td>\n",
       "    </tr>\n",
       "    <tr>\n",
       "      <th>11</th>\n",
       "      <td>Idaho</td>\n",
       "      <td>1567582</td>\n",
       "      <td>2.0</td>\n",
       "      <td>ID</td>\n",
       "      <td>24927438</td>\n",
       "      <td>4436369.5</td>\n",
       "    </tr>\n",
       "    <tr>\n",
       "      <th>43</th>\n",
       "      <td>Utah</td>\n",
       "      <td>2763885</td>\n",
       "      <td>2.3</td>\n",
       "      <td>UT</td>\n",
       "      <td>27691323</td>\n",
       "      <td>4436369.5</td>\n",
       "    </tr>\n",
       "    <tr>\n",
       "      <th>40</th>\n",
       "      <td>South Dakota</td>\n",
       "      <td>814180</td>\n",
       "      <td>2.3</td>\n",
       "      <td>SD</td>\n",
       "      <td>28505503</td>\n",
       "      <td>4436369.5</td>\n",
       "    </tr>\n",
       "    <tr>\n",
       "      <th>38</th>\n",
       "      <td>Rhode Island</td>\n",
       "      <td>1052567</td>\n",
       "      <td>2.4</td>\n",
       "      <td>RI</td>\n",
       "      <td>29558070</td>\n",
       "      <td>4436369.5</td>\n",
       "    </tr>\n",
       "    <tr>\n",
       "      <th>6</th>\n",
       "      <td>Connecticut</td>\n",
       "      <td>3574097</td>\n",
       "      <td>2.4</td>\n",
       "      <td>CT</td>\n",
       "      <td>33132167</td>\n",
       "      <td>4436369.5</td>\n",
       "    </tr>\n",
       "    <tr>\n",
       "      <th>46</th>\n",
       "      <td>Washington</td>\n",
       "      <td>6724540</td>\n",
       "      <td>2.5</td>\n",
       "      <td>WA</td>\n",
       "      <td>39856707</td>\n",
       "      <td>4436369.5</td>\n",
       "    </tr>\n",
       "    <tr>\n",
       "      <th>49</th>\n",
       "      <td>Wyoming</td>\n",
       "      <td>563626</td>\n",
       "      <td>2.7</td>\n",
       "      <td>WY</td>\n",
       "      <td>40420333</td>\n",
       "      <td>4436369.5</td>\n",
       "    </tr>\n",
       "    <tr>\n",
       "      <th>5</th>\n",
       "      <td>Colorado</td>\n",
       "      <td>5029196</td>\n",
       "      <td>2.8</td>\n",
       "      <td>CO</td>\n",
       "      <td>45449529</td>\n",
       "      <td>4436369.5</td>\n",
       "    </tr>\n",
       "    <tr>\n",
       "      <th>26</th>\n",
       "      <td>Nebraska</td>\n",
       "      <td>1826341</td>\n",
       "      <td>2.9</td>\n",
       "      <td>NE</td>\n",
       "      <td>47275870</td>\n",
       "      <td>4436369.5</td>\n",
       "    </tr>\n",
       "    <tr>\n",
       "      <th>48</th>\n",
       "      <td>Wisconsin</td>\n",
       "      <td>5686986</td>\n",
       "      <td>2.9</td>\n",
       "      <td>WI</td>\n",
       "      <td>52962856</td>\n",
       "      <td>4436369.5</td>\n",
       "    </tr>\n",
       "    <tr>\n",
       "      <th>33</th>\n",
       "      <td>North Dakota</td>\n",
       "      <td>672591</td>\n",
       "      <td>3.0</td>\n",
       "      <td>ND</td>\n",
       "      <td>53635447</td>\n",
       "      <td>4436369.5</td>\n",
       "    </tr>\n",
       "    <tr>\n",
       "      <th>15</th>\n",
       "      <td>Kansas</td>\n",
       "      <td>2853118</td>\n",
       "      <td>3.1</td>\n",
       "      <td>KS</td>\n",
       "      <td>56488565</td>\n",
       "      <td>4436369.5</td>\n",
       "    </tr>\n",
       "    <tr>\n",
       "      <th>31</th>\n",
       "      <td>New York</td>\n",
       "      <td>19378102</td>\n",
       "      <td>3.1</td>\n",
       "      <td>NY</td>\n",
       "      <td>75866667</td>\n",
       "      <td>4436369.5</td>\n",
       "    </tr>\n",
       "    <tr>\n",
       "      <th>25</th>\n",
       "      <td>Montana</td>\n",
       "      <td>989415</td>\n",
       "      <td>3.6</td>\n",
       "      <td>MT</td>\n",
       "      <td>76856082</td>\n",
       "      <td>4436369.5</td>\n",
       "    </tr>\n",
       "    <tr>\n",
       "      <th>16</th>\n",
       "      <td>Kentucky</td>\n",
       "      <td>4339367</td>\n",
       "      <td>3.6</td>\n",
       "      <td>KY</td>\n",
       "      <td>81195449</td>\n",
       "      <td>4436369.5</td>\n",
       "    </tr>\n",
       "    <tr>\n",
       "      <th>29</th>\n",
       "      <td>New Jersey</td>\n",
       "      <td>8791894</td>\n",
       "      <td>3.9</td>\n",
       "      <td>NJ</td>\n",
       "      <td>89987343</td>\n",
       "      <td>4436369.5</td>\n",
       "    </tr>\n",
       "    <tr>\n",
       "      <th>47</th>\n",
       "      <td>West Virginia</td>\n",
       "      <td>1852994</td>\n",
       "      <td>4.0</td>\n",
       "      <td>WV</td>\n",
       "      <td>91840337</td>\n",
       "      <td>4436369.5</td>\n",
       "    </tr>\n",
       "    <tr>\n",
       "      <th>34</th>\n",
       "      <td>Ohio</td>\n",
       "      <td>11536504</td>\n",
       "      <td>4.0</td>\n",
       "      <td>OH</td>\n",
       "      <td>103376841</td>\n",
       "      <td>4436369.5</td>\n",
       "    </tr>\n",
       "    <tr>\n",
       "      <th>45</th>\n",
       "      <td>Virginia</td>\n",
       "      <td>8001024</td>\n",
       "      <td>4.1</td>\n",
       "      <td>VA</td>\n",
       "      <td>111377865</td>\n",
       "      <td>4436369.5</td>\n",
       "    </tr>\n",
       "    <tr>\n",
       "      <th>42</th>\n",
       "      <td>Texas</td>\n",
       "      <td>25145561</td>\n",
       "      <td>4.4</td>\n",
       "      <td>TX</td>\n",
       "      <td>136523426</td>\n",
       "      <td>4436369.5</td>\n",
       "    </tr>\n",
       "    <tr>\n",
       "      <th>4</th>\n",
       "      <td>California</td>\n",
       "      <td>37253956</td>\n",
       "      <td>4.4</td>\n",
       "      <td>CA</td>\n",
       "      <td>173777382</td>\n",
       "      <td>4436369.5</td>\n",
       "    </tr>\n",
       "    <tr>\n",
       "      <th>35</th>\n",
       "      <td>Oklahoma</td>\n",
       "      <td>3751351</td>\n",
       "      <td>4.5</td>\n",
       "      <td>OK</td>\n",
       "      <td>177528733</td>\n",
       "      <td>4436369.5</td>\n",
       "    </tr>\n",
       "    <tr>\n",
       "      <th>2</th>\n",
       "      <td>Arizona</td>\n",
       "      <td>6392017</td>\n",
       "      <td>4.7</td>\n",
       "      <td>AZ</td>\n",
       "      <td>183920750</td>\n",
       "      <td>4436369.5</td>\n",
       "    </tr>\n",
       "    <tr>\n",
       "      <th>30</th>\n",
       "      <td>New Mexico</td>\n",
       "      <td>2059179</td>\n",
       "      <td>4.8</td>\n",
       "      <td>NM</td>\n",
       "      <td>185979929</td>\n",
       "      <td>4436369.5</td>\n",
       "    </tr>\n",
       "    <tr>\n",
       "      <th>37</th>\n",
       "      <td>Pennsylvania</td>\n",
       "      <td>12702379</td>\n",
       "      <td>4.8</td>\n",
       "      <td>PA</td>\n",
       "      <td>198682308</td>\n",
       "      <td>4436369.5</td>\n",
       "    </tr>\n",
       "    <tr>\n",
       "      <th>13</th>\n",
       "      <td>Indiana</td>\n",
       "      <td>6483802</td>\n",
       "      <td>5.0</td>\n",
       "      <td>IN</td>\n",
       "      <td>205166110</td>\n",
       "      <td>4436369.5</td>\n",
       "    </tr>\n",
       "    <tr>\n",
       "      <th>32</th>\n",
       "      <td>North Carolina</td>\n",
       "      <td>9535483</td>\n",
       "      <td>5.1</td>\n",
       "      <td>NC</td>\n",
       "      <td>214701593</td>\n",
       "      <td>4436369.5</td>\n",
       "    </tr>\n",
       "    <tr>\n",
       "      <th>12</th>\n",
       "      <td>Illinois</td>\n",
       "      <td>12830632</td>\n",
       "      <td>5.3</td>\n",
       "      <td>IL</td>\n",
       "      <td>227532225</td>\n",
       "      <td>4436369.5</td>\n",
       "    </tr>\n",
       "    <tr>\n",
       "      <th>21</th>\n",
       "      <td>Michigan</td>\n",
       "      <td>9883640</td>\n",
       "      <td>5.4</td>\n",
       "      <td>MI</td>\n",
       "      <td>237415865</td>\n",
       "      <td>4436369.5</td>\n",
       "    </tr>\n",
       "    <tr>\n",
       "      <th>3</th>\n",
       "      <td>Arkansas</td>\n",
       "      <td>2915918</td>\n",
       "      <td>5.6</td>\n",
       "      <td>AR</td>\n",
       "      <td>240331783</td>\n",
       "      <td>4436369.5</td>\n",
       "    </tr>\n",
       "    <tr>\n",
       "      <th>1</th>\n",
       "      <td>Alaska</td>\n",
       "      <td>710231</td>\n",
       "      <td>5.6</td>\n",
       "      <td>AK</td>\n",
       "      <td>241042014</td>\n",
       "      <td>4436369.5</td>\n",
       "    </tr>\n",
       "    <tr>\n",
       "      <th>41</th>\n",
       "      <td>Tennessee</td>\n",
       "      <td>6346105</td>\n",
       "      <td>5.7</td>\n",
       "      <td>TN</td>\n",
       "      <td>247388119</td>\n",
       "      <td>4436369.5</td>\n",
       "    </tr>\n",
       "    <tr>\n",
       "      <th>0</th>\n",
       "      <td>Alabama</td>\n",
       "      <td>4779736</td>\n",
       "      <td>5.7</td>\n",
       "      <td>AL</td>\n",
       "      <td>252167855</td>\n",
       "      <td>4436369.5</td>\n",
       "    </tr>\n",
       "    <tr>\n",
       "      <th>9</th>\n",
       "      <td>Georgia</td>\n",
       "      <td>9687653</td>\n",
       "      <td>5.7</td>\n",
       "      <td>GA</td>\n",
       "      <td>261855508</td>\n",
       "      <td>4436369.5</td>\n",
       "    </tr>\n",
       "    <tr>\n",
       "      <th>8</th>\n",
       "      <td>Florida</td>\n",
       "      <td>18801310</td>\n",
       "      <td>5.8</td>\n",
       "      <td>FL</td>\n",
       "      <td>280656818</td>\n",
       "      <td>4436369.5</td>\n",
       "    </tr>\n",
       "    <tr>\n",
       "      <th>7</th>\n",
       "      <td>Delaware</td>\n",
       "      <td>897934</td>\n",
       "      <td>5.8</td>\n",
       "      <td>DE</td>\n",
       "      <td>281554752</td>\n",
       "      <td>4436369.5</td>\n",
       "    </tr>\n",
       "    <tr>\n",
       "      <th>27</th>\n",
       "      <td>Nevada</td>\n",
       "      <td>2700551</td>\n",
       "      <td>6.0</td>\n",
       "      <td>NV</td>\n",
       "      <td>284255303</td>\n",
       "      <td>4436369.5</td>\n",
       "    </tr>\n",
       "    <tr>\n",
       "      <th>19</th>\n",
       "      <td>Maryland</td>\n",
       "      <td>5773552</td>\n",
       "      <td>6.1</td>\n",
       "      <td>MD</td>\n",
       "      <td>290028855</td>\n",
       "      <td>4436369.5</td>\n",
       "    </tr>\n",
       "    <tr>\n",
       "      <th>39</th>\n",
       "      <td>South Carolina</td>\n",
       "      <td>4625364</td>\n",
       "      <td>6.4</td>\n",
       "      <td>SC</td>\n",
       "      <td>294654219</td>\n",
       "      <td>4436369.5</td>\n",
       "    </tr>\n",
       "    <tr>\n",
       "      <th>24</th>\n",
       "      <td>Missouri</td>\n",
       "      <td>5988927</td>\n",
       "      <td>6.6</td>\n",
       "      <td>MO</td>\n",
       "      <td>300643146</td>\n",
       "      <td>4436369.5</td>\n",
       "    </tr>\n",
       "    <tr>\n",
       "      <th>23</th>\n",
       "      <td>Mississippi</td>\n",
       "      <td>2967297</td>\n",
       "      <td>8.6</td>\n",
       "      <td>MS</td>\n",
       "      <td>303610443</td>\n",
       "      <td>4436369.5</td>\n",
       "    </tr>\n",
       "    <tr>\n",
       "      <th>17</th>\n",
       "      <td>Louisiana</td>\n",
       "      <td>4533372</td>\n",
       "      <td>10.3</td>\n",
       "      <td>LA</td>\n",
       "      <td>308143815</td>\n",
       "      <td>4436369.5</td>\n",
       "    </tr>\n",
       "  </tbody>\n",
       "</table>\n",
       "</div>"
      ],
      "text/plain": [
       "             State  Population  Murder_Rate Abbreviation         cf     median\n",
       "28   New Hampshire     1316470          0.9           NH    1316470  4436369.5\n",
       "22       Minnesota     5303925          1.6           MN    6620395  4436369.5\n",
       "18           Maine     1328361          1.6           ME    7948756  4436369.5\n",
       "44         Vermont      625741          1.6           VT    8574497  4436369.5\n",
       "10          Hawaii     1360301          1.8           HI    9934798  4436369.5\n",
       "14            Iowa     3046355          1.9           IA   12981153  4436369.5\n",
       "36          Oregon     3831074          2.0           OR   16812227  4436369.5\n",
       "20   Massachusetts     6547629          2.0           MA   23359856  4436369.5\n",
       "11           Idaho     1567582          2.0           ID   24927438  4436369.5\n",
       "43            Utah     2763885          2.3           UT   27691323  4436369.5\n",
       "40    South Dakota      814180          2.3           SD   28505503  4436369.5\n",
       "38    Rhode Island     1052567          2.4           RI   29558070  4436369.5\n",
       "6      Connecticut     3574097          2.4           CT   33132167  4436369.5\n",
       "46      Washington     6724540          2.5           WA   39856707  4436369.5\n",
       "49         Wyoming      563626          2.7           WY   40420333  4436369.5\n",
       "5         Colorado     5029196          2.8           CO   45449529  4436369.5\n",
       "26        Nebraska     1826341          2.9           NE   47275870  4436369.5\n",
       "48       Wisconsin     5686986          2.9           WI   52962856  4436369.5\n",
       "33    North Dakota      672591          3.0           ND   53635447  4436369.5\n",
       "15          Kansas     2853118          3.1           KS   56488565  4436369.5\n",
       "31        New York    19378102          3.1           NY   75866667  4436369.5\n",
       "25         Montana      989415          3.6           MT   76856082  4436369.5\n",
       "16        Kentucky     4339367          3.6           KY   81195449  4436369.5\n",
       "29      New Jersey     8791894          3.9           NJ   89987343  4436369.5\n",
       "47   West Virginia     1852994          4.0           WV   91840337  4436369.5\n",
       "34            Ohio    11536504          4.0           OH  103376841  4436369.5\n",
       "45        Virginia     8001024          4.1           VA  111377865  4436369.5\n",
       "42           Texas    25145561          4.4           TX  136523426  4436369.5\n",
       "4       California    37253956          4.4           CA  173777382  4436369.5\n",
       "35        Oklahoma     3751351          4.5           OK  177528733  4436369.5\n",
       "2          Arizona     6392017          4.7           AZ  183920750  4436369.5\n",
       "30      New Mexico     2059179          4.8           NM  185979929  4436369.5\n",
       "37    Pennsylvania    12702379          4.8           PA  198682308  4436369.5\n",
       "13         Indiana     6483802          5.0           IN  205166110  4436369.5\n",
       "32  North Carolina     9535483          5.1           NC  214701593  4436369.5\n",
       "12        Illinois    12830632          5.3           IL  227532225  4436369.5\n",
       "21        Michigan     9883640          5.4           MI  237415865  4436369.5\n",
       "3         Arkansas     2915918          5.6           AR  240331783  4436369.5\n",
       "1           Alaska      710231          5.6           AK  241042014  4436369.5\n",
       "41       Tennessee     6346105          5.7           TN  247388119  4436369.5\n",
       "0          Alabama     4779736          5.7           AL  252167855  4436369.5\n",
       "9          Georgia     9687653          5.7           GA  261855508  4436369.5\n",
       "8          Florida    18801310          5.8           FL  280656818  4436369.5\n",
       "7         Delaware      897934          5.8           DE  281554752  4436369.5\n",
       "27          Nevada     2700551          6.0           NV  284255303  4436369.5\n",
       "19        Maryland     5773552          6.1           MD  290028855  4436369.5\n",
       "39  South Carolina     4625364          6.4           SC  294654219  4436369.5\n",
       "24        Missouri     5988927          6.6           MO  300643146  4436369.5\n",
       "23     Mississippi     2967297          8.6           MS  303610443  4436369.5\n",
       "17       Louisiana     4533372         10.3           LA  308143815  4436369.5"
      ]
     },
     "execution_count": 15,
     "metadata": {},
     "output_type": "execute_result"
    }
   ],
   "source": [
    "df"
   ]
  },
  {
   "cell_type": "code",
   "execution_count": 34,
   "id": "c8356578",
   "metadata": {},
   "outputs": [
    {
     "name": "stdout",
     "output_type": "stream",
     "text": [
      "<class 'float'>\n"
     ]
    }
   ],
   "source": [
    "cutoff = df['cf'].max()/2\n",
    "print(type(cutoff))"
   ]
  },
  {
   "cell_type": "code",
   "execution_count": 17,
   "id": "0866028c",
   "metadata": {},
   "outputs": [
    {
     "name": "stdout",
     "output_type": "stream",
     "text": [
      "154071907.5\n"
     ]
    }
   ],
   "source": [
    "print(cutoff)"
   ]
  },
  {
   "cell_type": "code",
   "execution_count": 43,
   "id": "6ffe772f",
   "metadata": {},
   "outputs": [],
   "source": [
    "df.sort_values('cf', inplace=True)"
   ]
  },
  {
   "cell_type": "code",
   "execution_count": 85,
   "id": "d327af49",
   "metadata": {
    "scrolled": false
   },
   "outputs": [
    {
     "data": {
      "text/plain": [
       "4    4.4\n",
       "Name: Murder_Rate, dtype: float64"
      ]
     },
     "execution_count": 85,
     "metadata": {},
     "output_type": "execute_result"
    }
   ],
   "source": [
    "cf_1 = df['cf'].tolist()\n",
    "for i in range(50):\n",
    "    if cf_1[i] >= cutoff:\n",
    "        index = cf_1[i]\n",
    "        break\n",
    "# print(index)\n",
    "med = df.query(\"cf == 173777382\")['Murder_Rate']\n",
    "med"
   ]
  },
  {
   "cell_type": "markdown",
   "id": "4784e4b6",
   "metadata": {},
   "source": [
    "# Estimates of Variablity"
   ]
  },
  {
   "cell_type": "code",
   "execution_count": 86,
   "id": "22cafb5e",
   "metadata": {},
   "outputs": [
    {
     "name": "stdout",
     "output_type": "stream",
     "text": [
      "standered Deviation is  6848235.347401144\n",
      "Variance is  46898327373394.47\n"
     ]
    }
   ],
   "source": [
    "print(\"standered Deviation is \",df['Population'].std())\n",
    "print(\"Variance is \",df['Population'].var())"
   ]
  },
  {
   "cell_type": "code",
   "execution_count": 87,
   "id": "6578f871",
   "metadata": {},
   "outputs": [
    {
     "name": "stdout",
     "output_type": "stream",
     "text": [
      "Mean abs devation 4450933.356000001\n"
     ]
    }
   ],
   "source": [
    "print(\"Mean abs devation\",df['Population'].mad())"
   ]
  },
  {
   "cell_type": "code",
   "execution_count": 93,
   "id": "6457b9e5",
   "metadata": {},
   "outputs": [
    {
     "name": "stdout",
     "output_type": "stream",
     "text": [
      "just a long way to find it 4450933.356000001\n"
     ]
    }
   ],
   "source": [
    "lis = df[\"Population\"].tolist()\n",
    "sum = 0\n",
    "for i in range(50):\n",
    "    sum = sum +  abs(lis[i] - 6162876.3)\n",
    "print(\"just a long way to find it\",sum/len(lis))"
   ]
  },
  {
   "cell_type": "code",
   "execution_count": 92,
   "id": "21e0bf33",
   "metadata": {},
   "outputs": [
    {
     "name": "stdout",
     "output_type": "stream",
     "text": [
      "2739408.0\n"
     ]
    }
   ],
   "source": [
    "\n",
    "lis2 = []\n",
    "for i in range(50):\n",
    "    lis2.insert(i,abs(lis[i] - 4436369.5))\n",
    "lis2.sort()\n",
    "print(\"Median abs Devation\",(lis2[25] + lis2[26])/2)"
   ]
  },
  {
   "cell_type": "code",
   "execution_count": null,
   "id": "5a4bd099",
   "metadata": {},
   "outputs": [],
   "source": []
  }
 ],
 "metadata": {
  "kernelspec": {
   "display_name": "Python 3",
   "language": "python",
   "name": "python3"
  },
  "language_info": {
   "codemirror_mode": {
    "name": "ipython",
    "version": 3
   },
   "file_extension": ".py",
   "mimetype": "text/x-python",
   "name": "python",
   "nbconvert_exporter": "python",
   "pygments_lexer": "ipython3",
   "version": "3.8.8"
  }
 },
 "nbformat": 4,
 "nbformat_minor": 5
}
